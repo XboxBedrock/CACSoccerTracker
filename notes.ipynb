{
 "cells": [
  {
   "cell_type": "markdown",
   "source": [],
   "metadata": {}
  },
  {
   "cell_type": "markdown",
   "source": [
    "$$\\sigma = \\sqrt{\\frac1N \\sum_{n=1}^{N} (x_n-\\mu)^2}$$"
   ],
   "metadata": {}
  },
  {
   "cell_type": "markdown",
   "source": [
    "$$f \\left(x,\\mu,\\sigma^{2}\\right) = \\frac{1}{\\sqrt[]{2\\pi \\sigma^{2}}}e^{\\frac{-\\left(x-\\mu\\right) ^{2}}{2 \\sigma^{2}}}$$\r\n",
    "$$\\text{Normal distribution (centered around mean)}$$"
   ],
   "metadata": {}
  },
  {
   "cell_type": "markdown",
   "source": [
    "$$\\hat{x} = \\text{estimated value of }x.$$\r\n",
    "$$z_N = \\text{measurement at time }N$$"
   ],
   "metadata": {}
  },
  {
   "cell_type": "markdown",
   "source": [],
   "metadata": {}
  },
  {
   "cell_type": "markdown",
   "source": [
    "$$\\begin{align*}\r\n",
    "\\hat{x}_N &= \\frac{1}{N} \\sum_{n=1}^{N} z_n \\\\\r\n",
    "&= \\frac{1}{N} \\left(\\sum_{n=1}^{N-1} z_n + z_N\\right) \\\\\r\n",
    "&= \\frac{1}{N} \\sum_{n=1}^{N-1} z_n + \\frac{1}{N}z_N  \\\\\r\n",
    "&= \\frac{N-1}{N} \\frac1{N-1} \\sum_{n=1}^{N-1} z_n + \\frac{1}{N}z_N \\\\\r\n",
    "&= \\frac{N-1}N \\hat{x}_{N-1} + \\frac1Nz_N\r\n",
    "\\end{align*}$$"
   ],
   "metadata": {}
  }
 ],
 "metadata": {
  "orig_nbformat": 4,
  "language_info": {
   "name": "python"
  }
 },
 "nbformat": 4,
 "nbformat_minor": 2
}